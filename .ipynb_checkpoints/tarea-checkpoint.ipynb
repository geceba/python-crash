{
 "cells": [
  {
   "cell_type": "markdown",
   "metadata": {},
   "source": [
    "para este ejercion puedes usar lo basico que hemos visto de python para realizar algo más o menos complejo, me refiero al clasico problema de pensamiento para programar, a las poderosas series de numeros, este en particular no es el clásico 2,4,6,8 ni fibonacci, bueno quizas si, pero estamos hablando de la poderosa serie de tribonacci\n",
    "\n",
    "este problema es digno para ser resuelto con python"
   ]
  },
  {
   "cell_type": "code",
   "execution_count": 5,
   "metadata": {},
   "outputs": [],
   "source": [
    "# por favor piense y no busque por internet\n",
    "# 0, 0, 1, 1, 2, 4, 7, 13... algo así debe sacar la salida\n",
    "\n",
    "#0 + 0 + 1 = 1\n",
    "#0 + 1 + 1 = 2\n",
    "#1 + 1 + 2 = 4\n",
    "\n",
    "\n"
   ]
  },
  {
   "cell_type": "code",
   "execution_count": null,
   "metadata": {},
   "outputs": [],
   "source": []
  },
  {
   "cell_type": "code",
   "execution_count": 6,
   "metadata": {},
   "outputs": [],
   "source": [
    "# ahora quiero que programes estos dos problemas, es suma y resta\n",
    "# quiero que hagas el ultimo ejemplo de la está pagina https://www.vitutor.com/alg/matrix/adding_matrices.html"
   ]
  },
  {
   "cell_type": "code",
   "execution_count": null,
   "metadata": {},
   "outputs": [],
   "source": []
  }
 ],
 "metadata": {
  "kernelspec": {
   "display_name": "Python 3",
   "language": "python",
   "name": "python3"
  },
  "language_info": {
   "codemirror_mode": {
    "name": "ipython",
    "version": 3
   },
   "file_extension": ".py",
   "mimetype": "text/x-python",
   "name": "python",
   "nbconvert_exporter": "python",
   "pygments_lexer": "ipython3",
   "version": "3.6.5"
  }
 },
 "nbformat": 4,
 "nbformat_minor": 2
}
