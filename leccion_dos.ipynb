{
 "cells": [
  {
   "cell_type": "markdown",
   "metadata": {},
   "source": [
    "bueno chaval, ya llego el momento para pasar a lo chido, ciclos y condiciones"
   ]
  },
  {
   "cell_type": "code",
   "execution_count": 1,
   "metadata": {},
   "outputs": [],
   "source": [
    "# pasemos al if primero porque se me hincha un huevo"
   ]
  },
  {
   "cell_type": "code",
   "execution_count": 2,
   "metadata": {},
   "outputs": [
    {
     "name": "stdout",
     "output_type": "stream",
     "text": [
      "no chupa pito, pero igual de puto\n"
     ]
    }
   ],
   "source": [
    "valor = 10\n",
    "\n",
    "if valor < 10:\n",
    "    print(\"chupa pito\")\n",
    "else:\n",
    "    print(\"no chupa pito, pero igual de puto\")"
   ]
  },
  {
   "cell_type": "code",
   "execution_count": 7,
   "metadata": {},
   "outputs": [
    {
     "name": "stdout",
     "output_type": "stream",
     "text": [
      "los papus sagrados no están aquí\n"
     ]
    }
   ],
   "source": [
    "from random import *\n",
    " \n",
    "# el ejemplo anterior es de lo mas cagado\n",
    "# pasemos a algo un poco mejor trabajado\n",
    "\n",
    "numero_random = randint(0,10)\n",
    "\n",
    "if numero_random == 5:\n",
    "    print(\"vientos, logro meterlo\")\n",
    "elif numero_random > 5:\n",
    "    print(\"los papus sagrados no están aquí\")\n",
    "elif numero_random > 8:\n",
    "    print(\"me pica el culo, me lo rascas?\")\n",
    "else:\n",
    "    print(\"sheila te amo uwu\")\n",
    "    \n",
    "# como puedes notas, esta madre tiene un chingo de pendejadas, pero analizalo\n",
    "# que es lo importante de todo esto, pues que podemos crear varias condiciones para solo un bloque\n",
    "# nos permitirá crear nuestros, en python no existe el switch case"
   ]
  },
  {
   "cell_type": "code",
   "execution_count": 9,
   "metadata": {},
   "outputs": [
    {
     "name": "stdout",
     "output_type": "stream",
     "text": [
      "me pica el coño\n"
     ]
    }
   ],
   "source": [
    "# veamos el while\n",
    "numero = randint(0,10)\n",
    "while(numero == 5):\n",
    "    print(\"puto \\n\")\n",
    "else:\n",
    "    print(\"me pica el coño\")"
   ]
  },
  {
   "cell_type": "code",
   "execution_count": 10,
   "metadata": {},
   "outputs": [
    {
     "name": "stdout",
     "output_type": "stream",
     "text": [
      "0\n",
      "1\n",
      "2\n",
      "3\n",
      "4\n",
      "5\n",
      "6\n",
      "7\n",
      "8\n",
      "9\n"
     ]
    }
   ],
   "source": [
    "# nota si cae el 5 por pura suerte tu navegador o mas bien jupyter notebook quedara en bug infinito\n",
    "# intentalo :V\n",
    "\"\"\"\n",
    "lo chido de esto que python al while se le puede agregar un else, imagina esto, si mi puto numero no es igual a cinco no\n",
    "entrará a la tarea, por lo tanto que otra acción puedo hacer, facil, agregas un else y alv imprime puto o no sé\n",
    "\"\"\"\n",
    "penes = 0\n",
    "\n",
    "while(penes < 10):\n",
    "    print(penes)\n",
    "    penes += 1"
   ]
  },
  {
   "cell_type": "markdown",
   "metadata": {},
   "source": [
    "muy bien veamos el for, sin duda el for es grandioso porque podemos recorrer grandes cantidades de informacion y crear magia con ellos, veamos un ejemplo un poco más elaborado con una comibinacion de todo lo que hemos visto"
   ]
  },
  {
   "cell_type": "code",
   "execution_count": 14,
   "metadata": {},
   "outputs": [
    {
     "name": "stdout",
     "output_type": "stream",
     "text": [
      "1  *  1  =  1\n",
      "2  *  2  =  4\n",
      "3  *  3  =  9\n",
      "4  *  4  =  16\n",
      "5  *  5  =  25\n",
      "6  *  6  =  36\n",
      "7  *  7  =  49\n",
      "8  *  8  =  64\n",
      "9  *  9  =  81\n",
      "10  *  10  =  100\n",
      "a que te doy un puñetazo eh\n",
      "1  *  1  =  1\n",
      "2  *  2  =  4\n",
      "3  *  3  =  9\n",
      "4  *  4  =  16\n",
      "5  *  5  =  25\n",
      "6  *  6  =  36\n",
      "7  *  7  =  49\n",
      "8  *  8  =  64\n",
      "9  *  9  =  81\n",
      "10  *  10  =  100\n",
      "a que te doy un puñetazo eh\n",
      "1  *  1  =  1\n",
      "2  *  2  =  4\n",
      "3  *  3  =  9\n",
      "4  *  4  =  16\n",
      "5  *  5  =  25\n",
      "6  *  6  =  36\n",
      "7  *  7  =  49\n",
      "8  *  8  =  64\n",
      "9  *  9  =  81\n",
      "10  *  10  =  100\n",
      "a que te doy un puñetazo eh\n",
      "1  *  1  =  1\n",
      "2  *  2  =  4\n",
      "3  *  3  =  9\n",
      "4  *  4  =  16\n",
      "5  *  5  =  25\n",
      "6  *  6  =  36\n",
      "7  *  7  =  49\n",
      "8  *  8  =  64\n",
      "9  *  9  =  81\n",
      "10  *  10  =  100\n",
      "a que te doy un puñetazo eh\n"
     ]
    }
   ],
   "source": [
    "culo = ['maria', 'mi_Ex', 'cardeña_te_amo', \"joder\"]\n",
    "\n",
    "for c in culo:\n",
    "    if c == 'cardeña_te_amo':\n",
    "        culo.append('c mamo')\n",
    "    else:\n",
    "        contador = 1\n",
    "        while(contador <= 10):\n",
    "            print(contador , \" * \" , contador ,\" = \", contador*contador)\n",
    "            contador += 1\n",
    "        else:\n",
    "            print(\"a que te doy un puñetazo eh\")"
   ]
  },
  {
   "cell_type": "markdown",
   "metadata": {},
   "source": [
    "espero "
   ]
  }
 ],
 "metadata": {
  "kernelspec": {
   "display_name": "Python 3",
   "language": "python",
   "name": "python3"
  },
  "language_info": {
   "codemirror_mode": {
    "name": "ipython",
    "version": 3
   },
   "file_extension": ".py",
   "mimetype": "text/x-python",
   "name": "python",
   "nbconvert_exporter": "python",
   "pygments_lexer": "ipython3",
   "version": "3.6.5"
  }
 },
 "nbformat": 4,
 "nbformat_minor": 2
}
