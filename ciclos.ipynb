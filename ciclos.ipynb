{
 "cells": [
  {
   "cell_type": "code",
   "execution_count": 1,
   "metadata": {},
   "outputs": [],
   "source": [
    "# diferencia de los ciclos"
   ]
  },
  {
   "cell_type": "code",
   "execution_count": 2,
   "metadata": {},
   "outputs": [
    {
     "name": "stdout",
     "output_type": "stream",
     "text": [
      "1\n",
      "2\n",
      "3\n",
      "4\n",
      "5\n",
      "6\n",
      "7\n",
      "8\n",
      "9\n",
      "10\n"
     ]
    }
   ],
   "source": [
    "contador = 1\n",
    "while(contador <= 10):\n",
    "    print(contador)\n",
    "    contador += 1\n",
    "    "
   ]
  },
  {
   "cell_type": "markdown",
   "metadata": {},
   "source": [
    "que es lo que hace internamente el while?, bueno si analizamos un poco nos damos cuenta que está cosa nos \n",
    "permite entrar a un ciclo, pero, notamos que existe un tipo condicional \"contador <= 10\" está parte lo puedes meter\n",
    "en un if, pero observa bien, si la condicion es verdadera está seguira en su ciclo, hasta que acabe o que suceda una interrupción, te preguntarás cuando utilizarlo, bueno esa será parte de la experiencia, tu debes decidir como quieres hacer funcionar tus procesos de lista tuplas o diccionario con base en el criterio que tengas sabrás cual será la mejor opción para ti"
   ]
  },
  {
   "cell_type": "code",
   "execution_count": 3,
   "metadata": {},
   "outputs": [
    {
     "name": "stdout",
     "output_type": "stream",
     "text": [
      "1\n",
      "2\n",
      "3\n",
      "4\n",
      "5\n",
      "6\n",
      "7\n",
      "8\n",
      "9\n"
     ]
    }
   ],
   "source": [
    "for i in range(1,10):\n",
    "    print(i)"
   ]
  },
  {
   "cell_type": "markdown",
   "metadata": {},
   "source": [
    "observa bien, notarás las diferencias en el while y for, pero ambos sirven para entrar a un bucle, pero la diferencia radica que el for recorre, no lleva con sigo un condicional en el cual si es menor o mayor o cosas por el estilo,\n",
    "el for se puede ver un condicional a largado pero no es tan declarativo"
   ]
  }
 ],
 "metadata": {
  "kernelspec": {
   "display_name": "Python 3",
   "language": "python",
   "name": "python3"
  },
  "language_info": {
   "codemirror_mode": {
    "name": "ipython",
    "version": 3
   },
   "file_extension": ".py",
   "mimetype": "text/x-python",
   "name": "python",
   "nbconvert_exporter": "python",
   "pygments_lexer": "ipython3",
   "version": "3.6.5"
  }
 },
 "nbformat": 4,
 "nbformat_minor": 2
}
