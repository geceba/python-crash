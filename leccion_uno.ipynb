{
 "cells": [
  {
   "cell_type": "markdown",
   "metadata": {},
   "source": [
    "Primera sección\n",
    "\n",
    "python es un lenguaje de alto nivel, esté lenguaje trae una gran cantidad de herramientas que ayuda al desarrollo de cualquier área, sea backend, servicios rest, big data, machine learning, visión computacional, deep learning, inteligencia artificial.\n",
    "\n",
    "\n",
    "hablemos de lo básico de python, que en este caso sería las variables\n",
    "python es fácil con esto si declaras una variable esta puede ser asignada cualquier tipo de valor y python sabrá que tipo de dato es, veamos el ejemplo\n",
    "        "
   ]
  },
  {
   "cell_type": "code",
   "execution_count": 1,
   "metadata": {},
   "outputs": [
    {
     "name": "stdout",
     "output_type": "stream",
     "text": [
      "10\n",
      "puto el que lo lea\n"
     ]
    }
   ],
   "source": [
    "a = 10\n",
    "# esto es un comentario en linea, veamos que imprime a\n",
    "print(a)\n",
    "\n",
    "# ahora veamos que imprime si asignamos otro valor\n",
    "a = \"puto el que lo lea\"\n",
    "print(a)"
   ]
  },
  {
   "cell_type": "code",
   "execution_count": 3,
   "metadata": {},
   "outputs": [
    {
     "name": "stdout",
     "output_type": "stream",
     "text": [
      "puto puto puto puto puto \n"
     ]
    }
   ],
   "source": [
    "\"\"\"\n",
    "esto es un compentario multilinea\n",
    "\n",
    "en el caso anterior estamos sobreescriendo la variable, \n",
    "en otros lenguajes como java esto marcaría error porque no son el mismo tipo\n",
    "\"\"\"\n",
    "\n",
    "#python contiene algo chingón, multiplicar cadenas\n",
    "print(\"puto \"*5)"
   ]
  },
  {
   "cell_type": "code",
   "execution_count": 4,
   "metadata": {},
   "outputs": [
    {
     "name": "stdout",
     "output_type": "stream",
     "text": [
      "1\n",
      "[1, 2, 3, 4, 5, 6]\n"
     ]
    }
   ],
   "source": [
    "#no quiero profundizar mucho en el tema, las variables son algo basico pero saltemos a las listas tuplas y diccionarios\n",
    "#son de suma importancia\n",
    "\n",
    "lista = [1,2,3,4,5]\n",
    "print(lista[0]) # asi podemos saber el valor mediante la posicion del arreglo, recuerda comienza a partir de 0\n",
    "\n",
    "# como agregamos y un nuevo elemento en la lista\n",
    "lista.append(6)\n",
    "print(lista)\n",
    "\n"
   ]
  },
  {
   "cell_type": "code",
   "execution_count": 5,
   "metadata": {},
   "outputs": [
    {
     "name": "stdout",
     "output_type": "stream",
     "text": [
      "[1, 2, 3, 4, 5]\n"
     ]
    }
   ],
   "source": [
    "# podemos notar que el 6 fue asignado, ahora lo eliminaremos\n",
    "lista.pop()\n",
    "print(lista)"
   ]
  },
  {
   "cell_type": "code",
   "execution_count": 6,
   "metadata": {},
   "outputs": [
    {
     "name": "stdout",
     "output_type": "stream",
     "text": [
      "[3, 4]\n",
      "[1, 2, 3, 4]\n"
     ]
    }
   ],
   "source": [
    "#ahora veamos el puto slicing\n",
    "print(lista[2:4])\n",
    "# como puedes darte cuenta, le estoy diciendo de donde quiero abarcar en mi lista\n",
    "\n",
    "#que pasaría si le pongo un negativo\n",
    "print(lista[:-1])"
   ]
  },
  {
   "cell_type": "markdown",
   "metadata": {},
   "source": [
    "intenta agregando nuevos valores en el slicing para ver el comportamiento"
   ]
  },
  {
   "cell_type": "code",
   "execution_count": 7,
   "metadata": {},
   "outputs": [
    {
     "name": "stdout",
     "output_type": "stream",
     "text": [
      "1\n",
      "2\n",
      "3\n",
      "4\n",
      "5\n"
     ]
    }
   ],
   "source": [
    "# para recorrer una lista es demasiado sencillo tenemos el for in\n",
    "\n",
    "for elemento in lista:\n",
    "    print(elemento)"
   ]
  },
  {
   "cell_type": "markdown",
   "metadata": {},
   "source": [
    "hasta ahora es solo lo básico de python, pero lo mas verga es que todo lo que puedas imaginar se puede lograr con este\n",
    "poderoso lenguaje, no seas como los ojetes que no quieren programar, programar deja dinero de la manera más fácil, aprovechalo\n",
    "\n",
    "    https://recursospython.com/guias-y-manuales/listas-y-tuplas/ puedes investigar más en este pequeña guia"
   ]
  },
  {
   "cell_type": "code",
   "execution_count": 8,
   "metadata": {},
   "outputs": [
    {
     "name": "stdout",
     "output_type": "stream",
     "text": [
      "(1, 2, 3)\n",
      "(1, 2, 4)\n"
     ]
    }
   ],
   "source": [
    "# pero ahora, te dirás, no mames Gerardo eso está fácil\n",
    "# la verdad está facil pero requiero dejarlo de la manera mas dummy el contenido para que puedas leer cualquier código\n",
    "# ahora te dire acerca de las tuplas\n",
    "\"\"\"\n",
    "las tuplas son como la listas solo que hay unas cositas diferentes, no como las zorra de mi ex :v\n",
    "\n",
    "las tuplas se escriben con () y no con []\n",
    "son inmutables\n",
    "\"\"\"\n",
    "\n",
    "tupla = (1,2,3)\n",
    "print(tupla)\n",
    "\n",
    "tupla = (1,2,4)\n",
    "print(tupla)\n",
    "\n"
   ]
  },
  {
   "cell_type": "code",
   "execution_count": 9,
   "metadata": {},
   "outputs": [
    {
     "name": "stdout",
     "output_type": "stream",
     "text": [
      "[15, 16, 17]\n",
      "[15, 21, 17]\n"
     ]
    },
    {
     "data": {
      "text/plain": [
       "9"
      ]
     },
     "execution_count": 9,
     "metadata": {},
     "output_type": "execute_result"
    }
   ],
   "source": [
    "# en el anterior ejemplo dirás, weon no que es inmutable y la respuesta es sí\n",
    "# pero para joderte la vida solo quise joder un poco, que pasa si quiero cambiar el valor de una tupla, chequemos primero \n",
    "#con una lista\n",
    "\n",
    "pene_grande = [15,16,17]\n",
    "print(pene_grande)\n",
    "\n",
    "pene_grande[1] = 21\n",
    "\n",
    "print(pene_grande)\n",
    "\n",
    "\n",
    "\n",
    "# no hay pedo en cambiarla, ahora que pasa si lo hacemos con una tupla\n",
    "\n",
    "pene_chico = (8, 9, 10)\n",
    "\n",
    "#puedo acceder al valor de la tupla como una lista\n",
    "pene_chico[1]"
   ]
  },
  {
   "cell_type": "code",
   "execution_count": 10,
   "metadata": {},
   "outputs": [
    {
     "ename": "TypeError",
     "evalue": "'tuple' object does not support item assignment",
     "output_type": "error",
     "traceback": [
      "\u001b[0;31m---------------------------------------------------------------------------\u001b[0m",
      "\u001b[0;31mTypeError\u001b[0m                                 Traceback (most recent call last)",
      "\u001b[0;32m<ipython-input-10-f969c1ae19cf>\u001b[0m in \u001b[0;36m<module>\u001b[0;34m()\u001b[0m\n\u001b[1;32m      1\u001b[0m \u001b[0;31m# ahora que pasa si quiero que ese nueve sea un 3\u001b[0m\u001b[0;34m\u001b[0m\u001b[0;34m\u001b[0m\u001b[0m\n\u001b[0;32m----> 2\u001b[0;31m \u001b[0mpene_chico\u001b[0m\u001b[0;34m[\u001b[0m\u001b[0;36m1\u001b[0m\u001b[0;34m]\u001b[0m \u001b[0;34m=\u001b[0m \u001b[0;36m10\u001b[0m\u001b[0;34m\u001b[0m\u001b[0m\n\u001b[0m",
      "\u001b[0;31mTypeError\u001b[0m: 'tuple' object does not support item assignment"
     ]
    }
   ],
   "source": [
    "# ahora que pasa si quiero que ese nueve sea un 3\n",
    "pene_chico[1] = 10"
   ]
  },
  {
   "cell_type": "code",
   "execution_count": 11,
   "metadata": {},
   "outputs": [
    {
     "name": "stdout",
     "output_type": "stream",
     "text": [
      "{'nombre': 'gerardo', 'novia': 'suguey', 'amigos gays': ['alexis', 'isaac']}\n"
     ]
    }
   ],
   "source": [
    "#el mensaje es claro, no puedo asignarlo\n",
    "\n",
    "# ahora hago pasemos a los diccionarios\n",
    "\n",
    "dic = { 'nombre': 'gerardo', 'novia':'suguey', 'amigos gays': ['alexis', 'isaac']}\n",
    "print(dic)"
   ]
  },
  {
   "cell_type": "markdown",
   "metadata": {},
   "source": [
    "te puedas dar cuenta que no tiene mucho sentido, pero esto te permite procesar la informacion si estás\n",
    "consumiendo algún tipo de servio web, si haz manejado javascript se parece al cuerpo de un json."
   ]
  },
  {
   "cell_type": "code",
   "execution_count": 12,
   "metadata": {},
   "outputs": [
    {
     "name": "stdout",
     "output_type": "stream",
     "text": [
      "['alexis', 'isaac']\n"
     ]
    }
   ],
   "source": [
    "#para que diablos quiero saber el diccionario, bueno como su nombre lo indica, te ayuda a buscar lo que necesitas\n",
    "print(dic['amigos gays'])"
   ]
  },
  {
   "cell_type": "markdown",
   "metadata": {},
   "source": [
    "puedes darte cuenta que pude acceder a esos valores solo con pasar la llave: ve está puta madre como key : value\n",
    "\n",
    "accede a esta página para profundizar un poco https://devcode.la/tutoriales/diccionarios-en-python/"
   ]
  },
  {
   "cell_type": "markdown",
   "metadata": {},
   "source": [
    "bueno, hasta aquí es lo más elemental de python, en la siguiente pasaremos con los ciclos y condiciones, te darás cuenta que es una estupidez bien vergas"
   ]
  },
  {
   "cell_type": "code",
   "execution_count": null,
   "metadata": {},
   "outputs": [],
   "source": []
  }
 ],
 "metadata": {
  "kernelspec": {
   "display_name": "Python 3",
   "language": "python",
   "name": "python3"
  },
  "language_info": {
   "codemirror_mode": {
    "name": "ipython",
    "version": 3
   },
   "file_extension": ".py",
   "mimetype": "text/x-python",
   "name": "python",
   "nbconvert_exporter": "python",
   "pygments_lexer": "ipython3",
   "version": "3.6.5"
  }
 },
 "nbformat": 4,
 "nbformat_minor": 2
}
